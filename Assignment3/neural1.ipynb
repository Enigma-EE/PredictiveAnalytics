{
 "cells": [
  {
   "cell_type": "code",
   "execution_count": null,
   "metadata": {},
   "outputs": [],
   "source": []
  },
  {
   "cell_type": "code",
   "execution_count": 15,
   "metadata": {},
   "outputs": [],
   "source": [
    "import pandas as pd\n",
    "from sklearn.model_selection import train_test_split\n",
    "from tensorflow import keras\n",
    "from tensorflow.keras.models import Sequential\n",
    "from tensorflow.keras.layers import Dense\n",
    "from tensorflow.keras.callbacks import EarlyStopping\n",
    "from tensorflow.keras.optimizers import Adam, RMSprop\n",
    "\n",
    "# Load data\n",
    "data = pd.read_csv('data.csv')\n"
   ]
  },
  {
   "cell_type": "code",
   "execution_count": 16,
   "metadata": {},
   "outputs": [
    {
     "name": "stdout",
     "output_type": "stream",
     "text": [
      "Index(['ClmAdmitDiagnosisCode', 'ClmDiagnosisCode_1', 'ClmDiagnosisCode_2',\n",
      "       'ClmDiagnosisCode_9', 'ClmDiagnosisCode_10', 'Gender', 'Race',\n",
      "       'RenalDiseaseIndicator', 'State', 'County', 'ChronicCond_Alzheimer',\n",
      "       'ChronicCond_Heartfailure', 'ChronicCond_KidneyDisease',\n",
      "       'ChronicCond_Cancer', 'ChronicCond_ObstrPulmonary',\n",
      "       'ChronicCond_Depression', 'ChronicCond_Diabetes',\n",
      "       'ChronicCond_IschemicHeart', 'ChronicCond_Osteoporasis',\n",
      "       'ChronicCond_rheumatoidarthritis', 'ChronicCond_stroke',\n",
      "       'PotentialFraud', 'Age', 'WeekendAdmission', 'IsDead',\n",
      "       'ClaimSettlementDelay_Cat', 'TreatmentDuration_Cat',\n",
      "       'Log_TotalClaimAmount', 'Log_IPTotalAmount', 'Log_OPTotalAmount',\n",
      "       'UniquePhysCount', 'IsSamePhysMultiRole1', 'IsSamePhysMultiRole2',\n",
      "       'PHY412132', 'PHY337425', 'PHY330576'],\n",
      "      dtype='object')\n"
     ]
    }
   ],
   "source": [
    "# view the columns\n",
    "print(data.columns)"
   ]
  },
  {
   "cell_type": "code",
   "execution_count": 17,
   "metadata": {},
   "outputs": [],
   "source": [
    "# Convert target to binary and split data\n",
    "\n",
    "train_data, test_data = train_test_split(data, test_size=0.2, random_state=123)\n",
    "\n",
    "# Separate features and target variable\n",
    "X_train = train_data.drop('PotentialFraud', axis=1)\n",
    "y_train = train_data['PotentialFraud']\n",
    "X_test = test_data.drop('PotentialFraud', axis=1)\n",
    "y_test = test_data['PotentialFraud']\n"
   ]
  },
  {
   "cell_type": "code",
   "execution_count": 18,
   "metadata": {},
   "outputs": [
    {
     "name": "stdout",
     "output_type": "stream",
     "text": [
      "[1 0]\n"
     ]
    }
   ],
   "source": [
    "print(y_train.unique())\n"
   ]
  },
  {
   "cell_type": "markdown",
   "metadata": {},
   "source": [
    "Define the Hypermodel"
   ]
  },
  {
   "cell_type": "code",
   "execution_count": 21,
   "metadata": {},
   "outputs": [
    {
     "name": "stderr",
     "output_type": "stream",
     "text": [
      "C:\\Users\\E\\AppData\\Local\\Temp\\ipykernel_25116\\2395990155.py:1: DeprecationWarning: `import kerastuner` is deprecated, please use `import keras_tuner`.\n",
      "  from kerastuner import HyperModel\n"
     ]
    }
   ],
   "source": [
    "from kerastuner import HyperModel\n",
    "from kerastuner.tuners import RandomSearch\n",
    "\n",
    "class MyHyperModel(HyperModel):\n",
    "    def __init__(self, input_shape):\n",
    "        self.input_shape = input_shape\n",
    "\n",
    "    def build(self, hp):\n",
    "        model = Sequential()\n",
    "        model.add(Dense(\n",
    "            units=hp.Int('units', min_value=32, max_value=512, step=32),\n",
    "            activation=hp.Choice('activation', ['relu', 'tanh']),\n",
    "            input_shape=self.input_shape))\n",
    "        model.add(Dropout(rate=hp.Float('dropout', min_value=0.0, max_value=0.5, step=0.1)))\n",
    "        for i in range(hp.Int('num_layers', 1, 3)):\n",
    "            model.add(Dense(\n",
    "                units=hp.Int(f'units_{i}', min_value=32, max_value=512, step=32),\n",
    "                activation=hp.Choice(f'activation_{i}', ['relu', 'tanh'])))\n",
    "            model.add(Dropout(rate=hp.Float(f'dropout_{i}', min_value=0.0, max_value=0.5, step=0.1)))\n",
    "        model.add(Dense(1, activation='sigmoid'))\n",
    "        model.compile(\n",
    "            optimizer=keras.optimizers.Adam(\n",
    "                hp.Float('learning_rate', 1e-4, 1e-2, sampling='log')),\n",
    "            loss='binary_crossentropy',\n",
    "            metrics=['accuracy'])\n",
    "        return model\n"
   ]
  },
  {
   "cell_type": "markdown",
   "metadata": {},
   "source": [
    "Initialize the Tuner and Start the Search"
   ]
  },
  {
   "cell_type": "code",
   "execution_count": 23,
   "metadata": {},
   "outputs": [
    {
     "name": "stdout",
     "output_type": "stream",
     "text": [
      "Trial 10 Complete [00h 14m 38s]\n",
      "val_accuracy: 0.6420661807060242\n",
      "\n",
      "Best val_accuracy So Far: 0.6638377010822296\n",
      "Total elapsed time: 01h 52m 42s\n",
      "Epoch 1/50\n",
      "11165/11165 [==============================] - 35s 3ms/step - loss: 1.7542 - accuracy: 0.3821 - val_loss: 1.2615 - val_accuracy: 0.3798\n",
      "Epoch 2/50\n",
      "11165/11165 [==============================] - 37s 3ms/step - loss: 1.7438 - accuracy: 0.3821 - val_loss: 1.3239 - val_accuracy: 0.3798\n",
      "Epoch 3/50\n",
      "11165/11165 [==============================] - 38s 3ms/step - loss: 1.7336 - accuracy: 0.3821 - val_loss: 1.2564 - val_accuracy: 0.3798\n",
      "Epoch 4/50\n",
      "11165/11165 [==============================] - 38s 3ms/step - loss: 1.7238 - accuracy: 0.3821 - val_loss: 1.1700 - val_accuracy: 0.3798\n",
      "Epoch 5/50\n",
      "11165/11165 [==============================] - 37s 3ms/step - loss: 1.7174 - accuracy: 0.3821 - val_loss: 1.2117 - val_accuracy: 0.3798\n",
      "Epoch 6/50\n",
      "11165/11165 [==============================] - 39s 4ms/step - loss: 1.7127 - accuracy: 0.3822 - val_loss: 1.1658 - val_accuracy: 0.3798\n",
      "Epoch 7/50\n",
      "11165/11165 [==============================] - 37s 3ms/step - loss: 1.7090 - accuracy: 0.3823 - val_loss: 1.2065 - val_accuracy: 0.3799\n",
      "Epoch 8/50\n",
      "11165/11165 [==============================] - 30s 3ms/step - loss: 1.7048 - accuracy: 0.3823 - val_loss: 1.1987 - val_accuracy: 0.3798\n",
      "Epoch 9/50\n",
      "11165/11165 [==============================] - 30s 3ms/step - loss: 1.7005 - accuracy: 0.3824 - val_loss: 1.1867 - val_accuracy: 0.3799\n"
     ]
    }
   ],
   "source": [
    "# Instantiate the hypermodel\n",
    "hypermodel = MyHyperModel(input_shape=(X_train.shape[1],))\n",
    "\n",
    "# Initialize the Random Search tuner\n",
    "tuner = RandomSearch(\n",
    "    hypermodel,\n",
    "    objective='val_accuracy',\n",
    "    max_trials=10,\n",
    "    executions_per_trial=2,\n",
    "    directory='my_dir',\n",
    "    project_name='keras_tuner_demo')\n",
    "\n",
    "# Perform hyperparameter tuning without the early stopping callback\n",
    "tuner.search(X_train, y_train, epochs=10, validation_split=0.2)\n",
    "\n",
    "# After tuning, retrieve the best hyperparameters\n",
    "best_hps = tuner.get_best_hyperparameters(num_trials=1)[0]\n",
    "\n",
    "\n"
   ]
  },
  {
   "cell_type": "markdown",
   "metadata": {},
   "source": [
    "Trial 10 Complete [00h 14m 38s]\n",
    "\n",
    "val_accuracy: 0.6420661807060242\n",
    "\n",
    "Best val_accuracy So Far: 0.6638377010822296\n",
    "\n",
    "Total elapsed time: 01h 52m 42s"
   ]
  },
  {
   "cell_type": "code",
   "execution_count": null,
   "metadata": {},
   "outputs": [],
   "source": [
    "# Build the model with the best hyperparameters\n",
    "best_model = tuner.hypermodel.build(best_hps)\n",
    "\n",
    "# Now, compile the best model with your optimizer and loss function\n",
    "best_model.compile(optimizer=Adam(best_hps.get('learning_rate')), loss='binary_crossentropy', metrics=['accuracy'])\n",
    "\n",
    "# Then, fit the model with the early stopping callback\n",
    "early_stopping = EarlyStopping(monitor='val_loss', patience=3, restore_best_weights=True)\n",
    "history = best_model.fit(X_train, y_train, epochs=50, validation_split=0.2, class_weight=class_weights, callbacks=[early_stopping])"
   ]
  },
  {
   "cell_type": "markdown",
   "metadata": {},
   "source": []
  }
 ],
 "metadata": {
  "kernelspec": {
   "display_name": "Python 3",
   "language": "python",
   "name": "python3"
  },
  "language_info": {
   "codemirror_mode": {
    "name": "ipython",
    "version": 3
   },
   "file_extension": ".py",
   "mimetype": "text/x-python",
   "name": "python",
   "nbconvert_exporter": "python",
   "pygments_lexer": "ipython3",
   "version": "3.8.5"
  }
 },
 "nbformat": 4,
 "nbformat_minor": 2
}
