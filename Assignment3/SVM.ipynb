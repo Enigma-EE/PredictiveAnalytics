{
 "cells": [
  {
   "cell_type": "code",
   "execution_count": 1,
   "metadata": {},
   "outputs": [],
   "source": [
    "import pandas as pd\n",
    "from sklearn import svm\n",
    "from sklearn.preprocessing import StandardScaler\n",
    "\n",
    "# Load your data\n",
    "# Assuming 'train.csv' is your training dataset\n",
    "train = pd.read_csv('train_important.csv')\n",
    "\n",
    "# Separate features and target\n",
    "X_train = train.drop('PotentialFraud', axis=1)\n",
    "y_train = train['PotentialFraud']\n",
    "\n",
    "# Standardize the data (optional, based on your need)\n",
    "scaler = StandardScaler()\n",
    "X_train_scaled = scaler.fit_transform(X_train)\n",
    "\n",
    "# Linear Kernel SVM\n",
    "svm_linear = svm.SVC(kernel='linear', C=1).fit(X_train_scaled, y_train)\n"
   ]
  },
  {
   "cell_type": "code",
   "execution_count": null,
   "metadata": {},
   "outputs": [],
   "source": [
    "# view the svm_linear model's support vectors\n",
    "svm_linear.support_vectors_"
   ]
  },
  {
   "cell_type": "code",
   "execution_count": null,
   "metadata": {},
   "outputs": [],
   "source": [
    "\n",
    "# Polynomial Kernel SVM\n",
    "svm_poly = svm.SVC(kernel='poly', degree=3, C=1).fit(X_train_scaled, y_train)\n",
    "\n"
   ]
  },
  {
   "cell_type": "code",
   "execution_count": null,
   "metadata": {},
   "outputs": [],
   "source": [
    "# Radial Basis Function Kernel SVM\n",
    "svm_rbf = svm.SVC(kernel='rbf', gamma=0.1, C=1).fit(X_train_scaled, y_train)"
   ]
  },
  {
   "cell_type": "code",
   "execution_count": null,
   "metadata": {},
   "outputs": [],
   "source": []
  }
 ],
 "metadata": {
  "kernelspec": {
   "display_name": "Python 3",
   "language": "python",
   "name": "python3"
  },
  "language_info": {
   "codemirror_mode": {
    "name": "ipython",
    "version": 3
   },
   "file_extension": ".py",
   "mimetype": "text/x-python",
   "name": "python",
   "nbconvert_exporter": "python",
   "pygments_lexer": "ipython3",
   "version": "3.8.5"
  }
 },
 "nbformat": 4,
 "nbformat_minor": 2
}
