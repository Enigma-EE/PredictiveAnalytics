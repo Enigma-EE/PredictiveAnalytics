{
 "cells": [
  {
   "cell_type": "code",
   "execution_count": null,
   "metadata": {},
   "outputs": [],
   "source": []
  },
  {
   "cell_type": "code",
   "execution_count": 1,
   "metadata": {},
   "outputs": [],
   "source": [
    "import pandas as pd\n",
    "import numpy as np\n",
    "from sklearn.model_selection import train_test_split\n",
    "from sklearn.utils import class_weight\n",
    "from tensorflow import keras\n",
    "from tensorflow.keras.models import Sequential\n",
    "from tensorflow.keras.layers import Dense, Dropout, BatchNormalization, LeakyReLU\n",
    "from tensorflow.keras.callbacks import EarlyStopping, TensorBoard\n",
    "from keras_tuner.tuners import BayesianOptimization\n",
    "import datetime\n",
    "# Load data\n",
    "data = pd.read_csv('data.csv')\n"
   ]
  },
  {
   "cell_type": "code",
   "execution_count": 2,
   "metadata": {},
   "outputs": [
    {
     "name": "stdout",
     "output_type": "stream",
     "text": [
      "Index(['ClmAdmitDiagnosisCode', 'ClmDiagnosisCode_1', 'ClmDiagnosisCode_2',\n",
      "       'ClmDiagnosisCode_9', 'ClmDiagnosisCode_10', 'Gender', 'Race',\n",
      "       'RenalDiseaseIndicator', 'State', 'County', 'ChronicCond_Alzheimer',\n",
      "       'ChronicCond_Heartfailure', 'ChronicCond_KidneyDisease',\n",
      "       'ChronicCond_Cancer', 'ChronicCond_ObstrPulmonary',\n",
      "       'ChronicCond_Depression', 'ChronicCond_Diabetes',\n",
      "       'ChronicCond_IschemicHeart', 'ChronicCond_Osteoporasis',\n",
      "       'ChronicCond_rheumatoidarthritis', 'ChronicCond_stroke',\n",
      "       'PotentialFraud', 'Age', 'WeekendAdmission', 'IsDead',\n",
      "       'ClaimSettlementDelay_Cat', 'TreatmentDuration_Cat',\n",
      "       'Log_TotalClaimAmount', 'Log_IPTotalAmount', 'Log_OPTotalAmount',\n",
      "       'UniquePhysCount', 'IsSamePhysMultiRole1', 'IsSamePhysMultiRole2',\n",
      "       'PHY412132', 'PHY337425', 'PHY330576'],\n",
      "      dtype='object')\n"
     ]
    }
   ],
   "source": [
    "# view the columns\n",
    "print(data.columns)"
   ]
  },
  {
   "cell_type": "code",
   "execution_count": 2,
   "metadata": {},
   "outputs": [],
   "source": [
    "# Convert target to binary and split data\n",
    "\n",
    "train_data, test_data = train_test_split(data, test_size=0.2, random_state=123)\n",
    "\n",
    "# Separate features and target variable\n",
    "X_train = train_data.drop('PotentialFraud', axis=1)\n",
    "y_train = train_data['PotentialFraud']\n",
    "X_test = test_data.drop('PotentialFraud', axis=1)\n",
    "y_test = test_data['PotentialFraud']\n"
   ]
  },
  {
   "cell_type": "code",
   "execution_count": 4,
   "metadata": {},
   "outputs": [
    {
     "name": "stdout",
     "output_type": "stream",
     "text": [
      "[1 0]\n"
     ]
    }
   ],
   "source": [
    "print(y_train.unique())\n"
   ]
  },
  {
   "cell_type": "markdown",
   "metadata": {},
   "source": [
    "Define the Hypermodel"
   ]
  },
  {
   "cell_type": "code",
   "execution_count": 5,
   "metadata": {},
   "outputs": [],
   "source": [
    "import numpy as np\n",
    "from keras_tuner import HyperModel\n",
    "# Class Weights Calculation for Imbalanced Data\n",
    "class_weights = class_weight.compute_class_weight('balanced',\n",
    "                                                  classes=np.unique(y_train),\n",
    "                                                  y=y_train)\n",
    "class_weights = dict(enumerate(class_weights))\n",
    "\n",
    "class MyHyperModel(HyperModel):\n",
    "    def __init__(self, input_shape):\n",
    "        self.input_shape = input_shape\n",
    "\n",
    "    def build(self, hp):\n",
    "        model = Sequential()\n",
    "        model.add(Dense(units=hp.Int('units', min_value=32, max_value=512, step=32),\n",
    "                        input_shape=self.input_shape))\n",
    "        model.add(LeakyReLU(alpha=0.01))\n",
    "        model.add(Dropout(rate=hp.Float('dropout', min_value=0.0, max_value=0.5, step=0.1)))\n",
    "        model.add(BatchNormalization())\n",
    "        for i in range(hp.Int('num_layers', 1, 3)):\n",
    "            model.add(Dense(units=hp.Int(f'units_{i}', min_value=32, max_value=512, step=32)))\n",
    "            model.add(LeakyReLU(alpha=0.01))\n",
    "            model.add(Dropout(rate=hp.Float(f'dropout_{i}', min_value=0.0, max_value=0.5, step=0.1)))\n",
    "            model.add(BatchNormalization())\n",
    "        model.add(Dense(1, activation='sigmoid'))\n",
    "        model.compile(optimizer=keras.optimizers.Adam(hp.Float('learning_rate', 1e-4, 1e-2, sampling='log')),\n",
    "                      loss='binary_crossentropy',\n",
    "                      metrics=['accuracy', keras.metrics.Precision(), keras.metrics.Recall(), keras.metrics.AUC()])\n",
    "        return model"
   ]
  },
  {
   "cell_type": "code",
   "execution_count": 9,
   "metadata": {},
   "outputs": [
    {
     "name": "stdout",
     "output_type": "stream",
     "text": [
      "Trial 10 Complete [00h 27m 39s]\n",
      "val_accuracy: 0.6461137235164642\n",
      "\n",
      "Best val_accuracy So Far: 0.6461137235164642\n",
      "Total elapsed time: 04h 21m 50s\n"
     ]
    }
   ],
   "source": [
    "\n",
    "# Instantiate the hypermodel\n",
    "hypermodel = MyHyperModel(input_shape=(X_train.shape[1],))\n",
    "\n",
    "# Bayesian Optimization\n",
    "tuner = BayesianOptimization(\n",
    "    hypermodel,\n",
    "    objective='val_accuracy',\n",
    "    max_trials=10,\n",
    "    executions_per_trial=2,\n",
    "    directory='my_dir',\n",
    "    project_name='keras_tuner_bayesian'\n",
    ")\n",
    "\n",
    "# Search for the best hyperparameters\n",
    "tuner.search(X_train, y_train, epochs=10, validation_split=0.2, class_weight=class_weights)\n",
    "\n",
    "# Retrieve the best hyperparameters\n",
    "best_hps = tuner.get_best_hyperparameters(num_trials=1)[0]"
   ]
  },
  {
   "cell_type": "code",
   "execution_count": 10,
   "metadata": {},
   "outputs": [
    {
     "name": "stdout",
     "output_type": "stream",
     "text": [
      "Epoch 1/50\n",
      "11165/11165 [==============================] - 85s 7ms/step - loss: 0.6827 - accuracy: 0.5718 - precision_1: 0.4454 - recall_1: 0.4916 - auc_1: 0.5823 - val_loss: 0.6628 - val_accuracy: 0.6045 - val_precision_1: 0.4770 - val_recall_1: 0.4297 - val_auc_1: 0.6040\n",
      "Epoch 2/50\n",
      "11165/11165 [==============================] - 79s 7ms/step - loss: 0.6736 - accuracy: 0.5846 - precision_1: 0.4597 - recall_1: 0.4962 - auc_1: 0.5974 - val_loss: 0.6644 - val_accuracy: 0.6273 - val_precision_1: 0.5130 - val_recall_1: 0.3687 - val_auc_1: 0.6157\n",
      "Epoch 3/50\n",
      "11165/11165 [==============================] - 82s 7ms/step - loss: 0.6716 - accuracy: 0.5874 - precision_1: 0.4639 - recall_1: 0.5130 - auc_1: 0.6046 - val_loss: 0.6840 - val_accuracy: 0.5473 - val_precision_1: 0.4396 - val_recall_1: 0.6989 - val_auc_1: 0.6218\n",
      "Epoch 4/50\n",
      "11165/11165 [==============================] - 82s 7ms/step - loss: 0.6669 - accuracy: 0.5971 - precision_1: 0.4758 - recall_1: 0.5350 - auc_1: 0.6198 - val_loss: 0.6516 - val_accuracy: 0.6265 - val_precision_1: 0.5085 - val_recall_1: 0.4996 - val_auc_1: 0.6400\n",
      "Epoch 5/50\n",
      "11165/11165 [==============================] - 81s 7ms/step - loss: 0.6647 - accuracy: 0.6015 - precision_1: 0.4810 - recall_1: 0.5422 - auc_1: 0.6255 - val_loss: 0.6608 - val_accuracy: 0.6096 - val_precision_1: 0.4879 - val_recall_1: 0.5621 - val_auc_1: 0.6440\n",
      "Epoch 6/50\n",
      "11165/11165 [==============================] - 81s 7ms/step - loss: 0.6638 - accuracy: 0.6036 - precision_1: 0.4834 - recall_1: 0.5436 - auc_1: 0.6282 - val_loss: 0.6534 - val_accuracy: 0.6123 - val_precision_1: 0.4913 - val_recall_1: 0.5840 - val_auc_1: 0.6483\n",
      "Epoch 7/50\n",
      "11165/11165 [==============================] - 80s 7ms/step - loss: 0.6629 - accuracy: 0.6033 - precision_1: 0.4832 - recall_1: 0.5505 - auc_1: 0.6303 - val_loss: 0.6499 - val_accuracy: 0.6505 - val_precision_1: 0.5571 - val_recall_1: 0.3888 - val_auc_1: 0.6484\n",
      "Epoch 8/50\n",
      "11165/11165 [==============================] - 83s 7ms/step - loss: 0.6621 - accuracy: 0.6052 - precision_1: 0.4854 - recall_1: 0.5491 - auc_1: 0.6322 - val_loss: 0.6401 - val_accuracy: 0.6449 - val_precision_1: 0.5432 - val_recall_1: 0.4096 - val_auc_1: 0.6447\n",
      "Epoch 9/50\n",
      "11165/11165 [==============================] - 81s 7ms/step - loss: 0.6614 - accuracy: 0.6073 - precision_1: 0.4877 - recall_1: 0.5468 - auc_1: 0.6340 - val_loss: 0.6598 - val_accuracy: 0.5901 - val_precision_1: 0.4711 - val_recall_1: 0.6467 - val_auc_1: 0.6486\n",
      "Epoch 10/50\n",
      "11165/11165 [==============================] - 83s 7ms/step - loss: 0.6610 - accuracy: 0.6067 - precision_1: 0.4870 - recall_1: 0.5498 - auc_1: 0.6345 - val_loss: 0.6436 - val_accuracy: 0.6503 - val_precision_1: 0.5497 - val_recall_1: 0.4383 - val_auc_1: 0.6603\n",
      "Epoch 11/50\n",
      "11165/11165 [==============================] - 80s 7ms/step - loss: 0.6601 - accuracy: 0.6083 - precision_1: 0.4890 - recall_1: 0.5564 - auc_1: 0.6371 - val_loss: 0.6600 - val_accuracy: 0.6069 - val_precision_1: 0.4864 - val_recall_1: 0.6273 - val_auc_1: 0.6602\n"
     ]
    }
   ],
   "source": [
    "\n",
    "# Build the model with the best hyperparameters\n",
    "best_model = hypermodel.build(best_hps)\n",
    "\n",
    "# Experiment Tracking with TensorBoard\n",
    "log_dir = \"logs/fit/\" + datetime.datetime.now().strftime(\"%Y%m%d-%H%M%S\")\n",
    "tensorboard_callback = TensorBoard(log_dir=log_dir, histogram_freq=1)\n",
    "\n",
    "# Training with early stopping and class weights\n",
    "early_stopping = EarlyStopping(monitor='val_loss', patience=3, restore_best_weights=True)\n",
    "history = best_model.fit(X_train, y_train, epochs=50, validation_split=0.2, class_weight=class_weights, callbacks=[early_stopping, tensorboard_callback])"
   ]
  },
  {
   "cell_type": "code",
   "execution_count": 13,
   "metadata": {},
   "outputs": [],
   "source": [
    "# Save the best model\n",
    "best_model.save('best_nn_model.h5')\n"
   ]
  },
  {
   "cell_type": "code",
   "execution_count": 3,
   "metadata": {},
   "outputs": [
    {
     "name": "stdout",
     "output_type": "stream",
     "text": [
      "3489/3489 [==============================] - 4s 1ms/step\n"
     ]
    }
   ],
   "source": [
    "# Load the saved model\n",
    "saved_best_model = keras.models.load_model('best_nn_model.h5')\n",
    "\n",
    "# Generate predictions with the loaded model\n",
    "loaded_nn_predictions = saved_best_model.predict(X_test)\n"
   ]
  },
  {
   "cell_type": "code",
   "execution_count": 18,
   "metadata": {},
   "outputs": [
    {
     "data": {
      "text/plain": [
       "(111643, 1)"
      ]
     },
     "execution_count": 18,
     "metadata": {},
     "output_type": "execute_result"
    }
   ],
   "source": [
    "loaded_nn_predictions.shape"
   ]
  },
  {
   "cell_type": "code",
   "execution_count": 7,
   "metadata": {},
   "outputs": [
    {
     "name": "stdout",
     "output_type": "stream",
     "text": [
      "Accuracy: 0.6417\n",
      "Precision: 0.5368\n",
      "Recall: 0.4073\n",
      "F1-Score: 0.4632\n",
      "Confusion Matrix:\n",
      "[[54388 14891]\n",
      " [25109 17255]]\n"
     ]
    }
   ],
   "source": [
    "from sklearn.metrics import accuracy_score, precision_score, recall_score, f1_score, confusion_matrix\n",
    "\n",
    "# Assuming your neural network outputs probabilities and you have a binary classification task\n",
    "threshold = 0.5\n",
    "binary_predictions = (loaded_nn_predictions > threshold).astype(int)\n",
    "\n",
    "# Evaluate the model\n",
    "accuracy = accuracy_score(y_test, binary_predictions)\n",
    "precision = precision_score(y_test, binary_predictions)\n",
    "recall = recall_score(y_test, binary_predictions)\n",
    "f1 = f1_score(y_test, binary_predictions)\n",
    "\n",
    "# You can also get the confusion matrix\n",
    "conf_matrix = confusion_matrix(y_test, binary_predictions)\n",
    "\n",
    "# Print the metrics\n",
    "print(f\"Accuracy: {accuracy:.4f}\")\n",
    "print(f\"Precision: {precision:.4f}\")\n",
    "print(f\"Recall: {recall:.4f}\")\n",
    "print(f\"F1-Score: {f1:.4f}\")\n",
    "print(f\"Confusion Matrix:\\n{conf_matrix}\")\n",
    "\n"
   ]
  },
  {
   "cell_type": "markdown",
   "metadata": {},
   "source": [
    "Accuracy: 0.6417\\\n",
    "Precision: 0.5368\\\n",
    "Recall: 0.4073\\\n",
    "F1-Score: 0.4632\\\n",
    "Confusion Matrix:\\\n",
    "[[54388 14891]\\\n",
    " [25109 17255]]"
   ]
  },
  {
   "cell_type": "markdown",
   "metadata": {},
   "source": [
    "```\n",
    "Epoch 1/50\n",
    "11165/11165 [==============================] - 85s 7ms/step - loss: 0.6827 - accuracy: 0.5718 - precision_1: 0.4454 - recall_1: 0.4916 - auc_1: 0.5823 - val_loss: 0.6628 - val_accuracy: 0.6045 - val_precision_1: 0.4770 - val_recall_1: 0.4297 - val_auc_1: 0.6040\n",
    "Epoch 2/50\n",
    "11165/11165 [==============================] - 79s 7ms/step - loss: 0.6736 - accuracy: 0.5846 - precision_1: 0.4597 - recall_1: 0.4962 - auc_1: 0.5974 - val_loss: 0.6644 - val_accuracy: 0.6273 - val_precision_1: 0.5130 - val_recall_1: 0.3687 - val_auc_1: 0.6157\n",
    "Epoch 3/50\n",
    "11165/11165 [==============================] - 82s 7ms/step - loss: 0.6716 - accuracy: 0.5874 - precision_1: 0.4639 - recall_1: 0.5130 - auc_1: 0.6046 - val_loss: 0.6840 - val_accuracy: 0.5473 - val_precision_1: 0.4396 - val_recall_1: 0.6989 - val_auc_1: 0.6218\n",
    "Epoch 4/50\n",
    "11165/11165 [==============================] - 82s 7ms/step - loss: 0.6669 - accuracy: 0.5971 - precision_1: 0.4758 - recall_1: 0.5350 - auc_1: 0.6198 - val_loss: 0.6516 - val_accuracy: 0.6265 - val_precision_1: 0.5085 - val_recall_1: 0.4996 - val_auc_1: 0.6400\n",
    "Epoch 5/50\n",
    "11165/11165 [==============================] - 81s 7ms/step - loss: 0.6647 - accuracy: 0.6015 - precision_1: 0.4810 - recall_1: 0.5422 - auc_1: 0.6255 - val_loss: 0.6608 - val_accuracy: 0.6096 - val_precision_1: 0.4879 - val_recall_1: 0.5621 - val_auc_1: 0.6440\n",
    "Epoch 6/50\n",
    "11165/11165 [==============================] - 81s 7ms/step - loss: 0.6638 - accuracy: 0.6036 - precision_1: 0.4834 - recall_1: 0.5436 - auc_1: 0.6282 - val_loss: 0.6534 - val_accuracy: 0.6123 - val_precision_1: 0.4913 - val_recall_1: 0.5840 - val_auc_1: 0.6483\n",
    "Epoch 7/50\n",
    "11165/11165 [==============================] - 80s 7ms/step - loss: 0.6629 - accuracy: 0.6033 - precision_1: 0.4832 - recall_1: 0.5505 - auc_1: 0.6303 - val_loss: 0.6499 - val_accuracy: 0.6505 - val_precision_1: 0.5571 - val_recall_1: 0.3888 - val_auc_1: 0.6484\n",
    "Epoch 8/50\n",
    "11165/11165 [==============================] - 83s 7ms/step - loss: 0.6621 - accuracy: 0.6052 - precision_1: 0.4854 - recall_1: 0.5491 - auc_1: 0.6322 - val_loss: 0.6401 - val_accuracy: 0.6449 - val_precision_1: 0.5432 - val_recall_1: 0.4096 - val_auc_1: 0.6447\n",
    "Epoch 9/50\n",
    "11165/11165 [==============================] - 81s 7ms/step - loss: 0.6614 - accuracy: 0.6073 - precision_1: 0.4877 - recall_1: 0.5468 - auc_1: 0.6340 - val_loss: 0.6598 - val_accuracy: 0.5901 - val_precision_1: 0.4711 - val_recall_1: 0.6467 - val_auc_1: 0.6486\n",
    "Epoch 10/50\n",
    "11165/11165 [==============================] - 83s 7ms/step - loss: 0.6610 - accuracy: 0.6067 - precision_1: 0.4870 - recall_1: 0.5498 - auc_1: 0.6345 - val_loss: 0.6436 - val_accuracy: 0.6503 - val_precision_1: 0.5497 - val_recall_1: 0.4383 - val_auc_1: 0.6603\n",
    "Epoch 11/50\n",
    "11165/11165 [==============================] - 80s 7ms/step - loss: 0.6601 - accuracy: 0.6083 - precision_1: 0.4890 - recall_1: 0.5564 - auc_1: 0.6371 - val_loss: 0.6600 - val_accuracy: 0.6069 - val_precision_1: 0.4864 - val_recall_1: 0.6273 - val_auc_1: 0.6602\n",
    "```"
   ]
  },
  {
   "cell_type": "code",
   "execution_count": null,
   "metadata": {},
   "outputs": [],
   "source": []
  },
  {
   "cell_type": "markdown",
   "metadata": {},
   "source": []
  },
  {
   "cell_type": "code",
   "execution_count": null,
   "metadata": {},
   "outputs": [],
   "source": []
  },
  {
   "cell_type": "code",
   "execution_count": null,
   "metadata": {},
   "outputs": [],
   "source": []
  },
  {
   "cell_type": "code",
   "execution_count": 21,
   "metadata": {},
   "outputs": [
    {
     "name": "stderr",
     "output_type": "stream",
     "text": [
      "C:\\Users\\E\\AppData\\Local\\Temp\\ipykernel_25116\\2395990155.py:1: DeprecationWarning: `import kerastuner` is deprecated, please use `import keras_tuner`.\n",
      "  from kerastuner import HyperModel\n"
     ]
    }
   ],
   "source": []
  },
  {
   "cell_type": "markdown",
   "metadata": {},
   "source": [
    "Initialize the Tuner and Start the Search"
   ]
  },
  {
   "cell_type": "code",
   "execution_count": 23,
   "metadata": {},
   "outputs": [
    {
     "name": "stdout",
     "output_type": "stream",
     "text": [
      "Trial 10 Complete [00h 14m 38s]\n",
      "val_accuracy: 0.6420661807060242\n",
      "\n",
      "Best val_accuracy So Far: 0.6638377010822296\n",
      "Total elapsed time: 01h 52m 42s\n",
      "Epoch 1/50\n",
      "11165/11165 [==============================] - 35s 3ms/step - loss: 1.7542 - accuracy: 0.3821 - val_loss: 1.2615 - val_accuracy: 0.3798\n",
      "Epoch 2/50\n",
      "11165/11165 [==============================] - 37s 3ms/step - loss: 1.7438 - accuracy: 0.3821 - val_loss: 1.3239 - val_accuracy: 0.3798\n",
      "Epoch 3/50\n",
      "11165/11165 [==============================] - 38s 3ms/step - loss: 1.7336 - accuracy: 0.3821 - val_loss: 1.2564 - val_accuracy: 0.3798\n",
      "Epoch 4/50\n",
      "11165/11165 [==============================] - 38s 3ms/step - loss: 1.7238 - accuracy: 0.3821 - val_loss: 1.1700 - val_accuracy: 0.3798\n",
      "Epoch 5/50\n",
      "11165/11165 [==============================] - 37s 3ms/step - loss: 1.7174 - accuracy: 0.3821 - val_loss: 1.2117 - val_accuracy: 0.3798\n",
      "Epoch 6/50\n",
      "11165/11165 [==============================] - 39s 4ms/step - loss: 1.7127 - accuracy: 0.3822 - val_loss: 1.1658 - val_accuracy: 0.3798\n",
      "Epoch 7/50\n",
      "11165/11165 [==============================] - 37s 3ms/step - loss: 1.7090 - accuracy: 0.3823 - val_loss: 1.2065 - val_accuracy: 0.3799\n",
      "Epoch 8/50\n",
      "11165/11165 [==============================] - 30s 3ms/step - loss: 1.7048 - accuracy: 0.3823 - val_loss: 1.1987 - val_accuracy: 0.3798\n",
      "Epoch 9/50\n",
      "11165/11165 [==============================] - 30s 3ms/step - loss: 1.7005 - accuracy: 0.3824 - val_loss: 1.1867 - val_accuracy: 0.3799\n"
     ]
    }
   ],
   "source": [
    "\n",
    "\n",
    "\n"
   ]
  },
  {
   "cell_type": "markdown",
   "metadata": {},
   "source": [
    "Trial 10 Complete [00h 14m 38s]\n",
    "\n",
    "val_accuracy: 0.6420661807060242\n",
    "\n",
    "Best val_accuracy So Far: 0.6638377010822296\n",
    "\n",
    "Total elapsed time: 01h 52m 42s"
   ]
  },
  {
   "cell_type": "code",
   "execution_count": null,
   "metadata": {},
   "outputs": [],
   "source": []
  },
  {
   "cell_type": "markdown",
   "metadata": {},
   "source": []
  }
 ],
 "metadata": {
  "kernelspec": {
   "display_name": "Python 3",
   "language": "python",
   "name": "python3"
  },
  "language_info": {
   "codemirror_mode": {
    "name": "ipython",
    "version": 3
   },
   "file_extension": ".py",
   "mimetype": "text/x-python",
   "name": "python",
   "nbconvert_exporter": "python",
   "pygments_lexer": "ipython3",
   "version": "3.8.5"
  }
 },
 "nbformat": 4,
 "nbformat_minor": 2
}
