{
 "cells": [
  {
   "cell_type": "code",
   "execution_count": null,
   "metadata": {},
   "outputs": [],
   "source": []
  },
  {
   "cell_type": "code",
   "execution_count": 1,
   "metadata": {},
   "outputs": [],
   "source": [
    "import pandas as pd\n",
    "from sklearn.model_selection import train_test_split\n",
    "from tensorflow import keras\n",
    "from tensorflow.keras.models import Sequential\n",
    "from tensorflow.keras.layers import Dense\n",
    "from tensorflow.keras.callbacks import EarlyStopping\n",
    "from tensorflow.keras.optimizers import Adam, RMSprop\n",
    "\n",
    "# Load data\n",
    "data = pd.read_csv('data.csv')\n"
   ]
  },
  {
   "cell_type": "code",
   "execution_count": 3,
   "metadata": {},
   "outputs": [
    {
     "name": "stdout",
     "output_type": "stream",
     "text": [
      "Index(['ClmAdmitDiagnosisCode', 'ClmDiagnosisCode_1', 'ClmDiagnosisCode_2',\n",
      "       'ClmDiagnosisCode_9', 'ClmDiagnosisCode_10', 'Gender', 'Race',\n",
      "       'RenalDiseaseIndicator', 'State', 'County', 'ChronicCond_Alzheimer',\n",
      "       'ChronicCond_Heartfailure', 'ChronicCond_KidneyDisease',\n",
      "       'ChronicCond_Cancer', 'ChronicCond_ObstrPulmonary',\n",
      "       'ChronicCond_Depression', 'ChronicCond_Diabetes',\n",
      "       'ChronicCond_IschemicHeart', 'ChronicCond_Osteoporasis',\n",
      "       'ChronicCond_rheumatoidarthritis', 'ChronicCond_stroke',\n",
      "       'PotentialFraud', 'Age', 'WeekendAdmission', 'IsDead',\n",
      "       'ClaimSettlementDelay_Cat', 'TreatmentDuration_Cat',\n",
      "       'Log_TotalClaimAmount', 'Log_IPTotalAmount', 'Log_OPTotalAmount',\n",
      "       'UniquePhysCount', 'IsSamePhysMultiRole1', 'IsSamePhysMultiRole2',\n",
      "       'PHY412132', 'PHY337425', 'PHY330576'],\n",
      "      dtype='object')\n"
     ]
    }
   ],
   "source": [
    "# view the columns\n",
    "print(data.columns)"
   ]
  },
  {
   "cell_type": "code",
   "execution_count": 4,
   "metadata": {},
   "outputs": [],
   "source": [
    "# Convert target to binary and split data\n",
    "data['PotentialFraud'] = data['PotentialFraud'].apply(lambda x: x - 1)\n",
    "train_data, test_data = train_test_split(data, test_size=0.2, random_state=123)\n",
    "\n",
    "# Separate features and target variable\n",
    "X_train = train_data.drop('PotentialFraud', axis=1)\n",
    "y_train = train_data['PotentialFraud']\n",
    "X_test = test_data.drop('PotentialFraud', axis=1)\n",
    "y_test = test_data['PotentialFraud']\n"
   ]
  },
  {
   "cell_type": "markdown",
   "metadata": {},
   "source": [
    "Building a Simple Model"
   ]
  },
  {
   "cell_type": "code",
   "execution_count": 5,
   "metadata": {},
   "outputs": [
    {
     "name": "stdout",
     "output_type": "stream",
     "text": [
      "Epoch 1/10\n",
      "698/698 [==============================] - 3s 3ms/step - loss: -795.0646 - accuracy: 0.3821 - val_loss: -3373.2153 - val_accuracy: 0.3798\n",
      "Epoch 2/10\n",
      "698/698 [==============================] - 2s 2ms/step - loss: -13119.4805 - accuracy: 0.3821 - val_loss: -27887.0605 - val_accuracy: 0.3798\n",
      "Epoch 3/10\n",
      "698/698 [==============================] - 2s 2ms/step - loss: -53404.5508 - accuracy: 0.3821 - val_loss: -85560.8359 - val_accuracy: 0.3798\n",
      "Epoch 4/10\n",
      "698/698 [==============================] - 2s 2ms/step - loss: -129849.7734 - accuracy: 0.3821 - val_loss: -182229.4844 - val_accuracy: 0.3798\n",
      "Epoch 5/10\n",
      "698/698 [==============================] - 2s 2ms/step - loss: -247262.5156 - accuracy: 0.3821 - val_loss: -321964.8750 - val_accuracy: 0.3798\n",
      "Epoch 6/10\n",
      "698/698 [==============================] - 2s 2ms/step - loss: -409153.0938 - accuracy: 0.3821 - val_loss: -507925.0000 - val_accuracy: 0.3798\n",
      "Epoch 7/10\n",
      "698/698 [==============================] - 2s 2ms/step - loss: -618719.8125 - accuracy: 0.3821 - val_loss: -743373.9375 - val_accuracy: 0.3798\n",
      "Epoch 8/10\n",
      "698/698 [==============================] - 2s 2ms/step - loss: -879219.8750 - accuracy: 0.3821 - val_loss: -1031552.6250 - val_accuracy: 0.3798\n",
      "Epoch 9/10\n",
      "698/698 [==============================] - 2s 2ms/step - loss: -1193840.0000 - accuracy: 0.3821 - val_loss: -1375780.3750 - val_accuracy: 0.3798\n",
      "Epoch 10/10\n",
      "698/698 [==============================] - 2s 2ms/step - loss: -1566141.5000 - accuracy: 0.3821 - val_loss: -1779766.6250 - val_accuracy: 0.3798\n"
     ]
    }
   ],
   "source": [
    "# Define a simple model\n",
    "model = Sequential([\n",
    "    Dense(16, activation='relu', input_shape=(X_train.shape[1],)),\n",
    "    Dense(16, activation='relu'),\n",
    "    Dense(1, activation='sigmoid')\n",
    "])\n",
    "\n",
    "# Compile the model\n",
    "model.compile(optimizer='adam', loss='binary_crossentropy', metrics=['accuracy'])\n",
    "\n",
    "# Fit the model\n",
    "history = model.fit(X_train, y_train, epochs=10, batch_size=512, validation_split=0.2)\n"
   ]
  },
  {
   "cell_type": "code",
   "execution_count": 6,
   "metadata": {},
   "outputs": [
    {
     "name": "stdout",
     "output_type": "stream",
     "text": [
      "3489/3489 [==============================] - 5s 1ms/step - loss: -1781009.7500 - accuracy: 0.3795\n",
      "Accuracy: 37.95\n"
     ]
    }
   ],
   "source": [
    "# evaluate the model\n",
    "loss, accuracy = model.evaluate(X_test, y_test)\n",
    "print('Accuracy: %.2f' % (accuracy*100))\n"
   ]
  },
  {
   "cell_type": "markdown",
   "metadata": {},
   "source": [
    "Model Construction and Parameter Optimization"
   ]
  },
  {
   "cell_type": "code",
   "execution_count": 7,
   "metadata": {},
   "outputs": [
    {
     "name": "stdout",
     "output_type": "stream",
     "text": [
      "Epoch 1/100\n",
      "698/698 [==============================] - 3s 3ms/step - loss: -4428.0181 - accuracy: 0.3821 - val_loss: -16326.4688 - val_accuracy: 0.3798\n",
      "Epoch 2/100\n",
      "698/698 [==============================] - 2s 3ms/step - loss: -54705.1172 - accuracy: 0.3821 - val_loss: -113204.4531 - val_accuracy: 0.3798\n",
      "Epoch 3/100\n",
      "698/698 [==============================] - 2s 3ms/step - loss: -220877.2656 - accuracy: 0.3821 - val_loss: -362171.9688 - val_accuracy: 0.3798\n",
      "Epoch 4/100\n",
      "698/698 [==============================] - 2s 3ms/step - loss: -573697.2500 - accuracy: 0.3821 - val_loss: -834289.7500 - val_accuracy: 0.3798\n",
      "Epoch 5/100\n",
      "698/698 [==============================] - 2s 3ms/step - loss: -1184856.1250 - accuracy: 0.3821 - val_loss: -1600356.3750 - val_accuracy: 0.3798\n",
      "Epoch 6/100\n",
      "698/698 [==============================] - 2s 3ms/step - loss: -2122368.2500 - accuracy: 0.3821 - val_loss: -2730410.5000 - val_accuracy: 0.3798\n",
      "Epoch 7/100\n",
      "698/698 [==============================] - 2s 3ms/step - loss: -3457959.0000 - accuracy: 0.3821 - val_loss: -4295862.0000 - val_accuracy: 0.3798\n",
      "Epoch 8/100\n",
      "698/698 [==============================] - 2s 3ms/step - loss: -5266162.5000 - accuracy: 0.3821 - val_loss: -6369866.5000 - val_accuracy: 0.3798\n",
      "Epoch 9/100\n",
      "698/698 [==============================] - 2s 3ms/step - loss: -7613251.5000 - accuracy: 0.3821 - val_loss: -9023740.0000 - val_accuracy: 0.3798\n",
      "Epoch 10/100\n",
      "698/698 [==============================] - 2s 3ms/step - loss: -10575509.0000 - accuracy: 0.3821 - val_loss: -12330074.0000 - val_accuracy: 0.3798\n",
      "Epoch 11/100\n",
      "698/698 [==============================] - 2s 3ms/step - loss: -14222776.0000 - accuracy: 0.3821 - val_loss: -16361118.0000 - val_accuracy: 0.3798\n",
      "Epoch 12/100\n",
      "698/698 [==============================] - 2s 3ms/step - loss: -18627924.0000 - accuracy: 0.3821 - val_loss: -21186354.0000 - val_accuracy: 0.3798\n",
      "Epoch 13/100\n",
      "698/698 [==============================] - 2s 3ms/step - loss: -23858744.0000 - accuracy: 0.3821 - val_loss: -26877066.0000 - val_accuracy: 0.3798\n",
      "Epoch 14/100\n",
      "698/698 [==============================] - 2s 3ms/step - loss: -29985412.0000 - accuracy: 0.3821 - val_loss: -33505640.0000 - val_accuracy: 0.3798\n",
      "Epoch 15/100\n",
      "698/698 [==============================] - 2s 3ms/step - loss: -37089828.0000 - accuracy: 0.3821 - val_loss: -41145060.0000 - val_accuracy: 0.3798\n",
      "Epoch 16/100\n",
      "698/698 [==============================] - 2s 3ms/step - loss: -45230424.0000 - accuracy: 0.3821 - val_loss: -49867300.0000 - val_accuracy: 0.3798\n",
      "Epoch 17/100\n",
      "698/698 [==============================] - 2s 3ms/step - loss: -54480072.0000 - accuracy: 0.3821 - val_loss: -59738188.0000 - val_accuracy: 0.3798\n",
      "Epoch 18/100\n",
      "698/698 [==============================] - 2s 3ms/step - loss: -64917488.0000 - accuracy: 0.3821 - val_loss: -70836704.0000 - val_accuracy: 0.3798\n",
      "Epoch 19/100\n",
      "698/698 [==============================] - 2s 3ms/step - loss: -76603912.0000 - accuracy: 0.3821 - val_loss: -83228920.0000 - val_accuracy: 0.3798\n",
      "Epoch 20/100\n",
      "698/698 [==============================] - 2s 3ms/step - loss: -89629784.0000 - accuracy: 0.3821 - val_loss: -96987888.0000 - val_accuracy: 0.3798\n",
      "Epoch 21/100\n",
      "698/698 [==============================] - 2s 3ms/step - loss: -104039496.0000 - accuracy: 0.3821 - val_loss: -112187144.0000 - val_accuracy: 0.3798\n",
      "Epoch 22/100\n",
      "698/698 [==============================] - 2s 3ms/step - loss: -119925416.0000 - accuracy: 0.3821 - val_loss: -128896184.0000 - val_accuracy: 0.3798\n",
      "Epoch 23/100\n",
      "698/698 [==============================] - 2s 3ms/step - loss: -137342464.0000 - accuracy: 0.3821 - val_loss: -147184336.0000 - val_accuracy: 0.3798\n",
      "Epoch 24/100\n",
      "698/698 [==============================] - 2s 3ms/step - loss: -156386320.0000 - accuracy: 0.3821 - val_loss: -167128496.0000 - val_accuracy: 0.3798\n",
      "Epoch 25/100\n",
      "698/698 [==============================] - 2s 3ms/step - loss: -177089808.0000 - accuracy: 0.3821 - val_loss: -188793712.0000 - val_accuracy: 0.3798\n",
      "Epoch 26/100\n",
      "698/698 [==============================] - 2s 3ms/step - loss: -199559984.0000 - accuracy: 0.3821 - val_loss: -212254112.0000 - val_accuracy: 0.3798\n",
      "Epoch 27/100\n",
      "698/698 [==============================] - 2s 3ms/step - loss: -223881232.0000 - accuracy: 0.3821 - val_loss: -237590944.0000 - val_accuracy: 0.3798\n",
      "Epoch 28/100\n",
      "698/698 [==============================] - 2s 3ms/step - loss: -250036944.0000 - accuracy: 0.3821 - val_loss: -264852896.0000 - val_accuracy: 0.3798\n",
      "Epoch 29/100\n",
      "698/698 [==============================] - 2s 3ms/step - loss: -278195968.0000 - accuracy: 0.3821 - val_loss: -294130912.0000 - val_accuracy: 0.3798\n",
      "Epoch 30/100\n",
      "698/698 [==============================] - 2s 3ms/step - loss: -308407776.0000 - accuracy: 0.3821 - val_loss: -325497408.0000 - val_accuracy: 0.3798\n",
      "Epoch 31/100\n",
      "698/698 [==============================] - 2s 3ms/step - loss: -340680576.0000 - accuracy: 0.3821 - val_loss: -359011872.0000 - val_accuracy: 0.3798\n",
      "Epoch 32/100\n",
      "698/698 [==============================] - 2s 3ms/step - loss: -375168672.0000 - accuracy: 0.3821 - val_loss: -394742080.0000 - val_accuracy: 0.3798\n",
      "Epoch 33/100\n",
      "698/698 [==============================] - 2s 3ms/step - loss: -411908512.0000 - accuracy: 0.3821 - val_loss: -432777088.0000 - val_accuracy: 0.3798\n",
      "Epoch 34/100\n",
      "698/698 [==============================] - 2s 3ms/step - loss: -450995904.0000 - accuracy: 0.3821 - val_loss: -473180512.0000 - val_accuracy: 0.3798\n",
      "Epoch 35/100\n",
      "698/698 [==============================] - 2s 3ms/step - loss: -492417440.0000 - accuracy: 0.3821 - val_loss: -516012704.0000 - val_accuracy: 0.3798\n",
      "Epoch 36/100\n",
      "698/698 [==============================] - 2s 3ms/step - loss: -536340352.0000 - accuracy: 0.3821 - val_loss: -561375552.0000 - val_accuracy: 0.3798\n",
      "Epoch 37/100\n",
      "698/698 [==============================] - 2s 3ms/step - loss: -582771904.0000 - accuracy: 0.3821 - val_loss: -609302464.0000 - val_accuracy: 0.3798\n",
      "Epoch 38/100\n",
      "698/698 [==============================] - 2s 3ms/step - loss: -631799744.0000 - accuracy: 0.3821 - val_loss: -659886976.0000 - val_accuracy: 0.3798\n",
      "Epoch 39/100\n",
      "698/698 [==============================] - 2s 3ms/step - loss: -683570816.0000 - accuracy: 0.3821 - val_loss: -713195712.0000 - val_accuracy: 0.3798\n",
      "Epoch 40/100\n",
      "698/698 [==============================] - 2s 3ms/step - loss: -738053376.0000 - accuracy: 0.3821 - val_loss: -769298048.0000 - val_accuracy: 0.3798\n",
      "Epoch 41/100\n",
      "698/698 [==============================] - 2s 3ms/step - loss: -795375232.0000 - accuracy: 0.3821 - val_loss: -828270016.0000 - val_accuracy: 0.3798\n",
      "Epoch 42/100\n",
      "698/698 [==============================] - 2s 3ms/step - loss: -855558848.0000 - accuracy: 0.3821 - val_loss: -890188480.0000 - val_accuracy: 0.3798\n",
      "Epoch 43/100\n",
      "698/698 [==============================] - 2s 3ms/step - loss: -918700032.0000 - accuracy: 0.3821 - val_loss: -955111616.0000 - val_accuracy: 0.3798\n",
      "Epoch 44/100\n",
      "698/698 [==============================] - 2s 3ms/step - loss: -984851136.0000 - accuracy: 0.3821 - val_loss: -1023087552.0000 - val_accuracy: 0.3798\n",
      "Epoch 45/100\n",
      "698/698 [==============================] - 2s 3ms/step - loss: -1054186176.0000 - accuracy: 0.3821 - val_loss: -1094259328.0000 - val_accuracy: 0.3798\n",
      "Epoch 46/100\n",
      "698/698 [==============================] - 2s 3ms/step - loss: -1126638848.0000 - accuracy: 0.3821 - val_loss: -1168629376.0000 - val_accuracy: 0.3798\n",
      "Epoch 47/100\n",
      "698/698 [==============================] - 2s 3ms/step - loss: -1202368640.0000 - accuracy: 0.3821 - val_loss: -1246292736.0000 - val_accuracy: 0.3798\n",
      "Epoch 48/100\n",
      "698/698 [==============================] - 2s 3ms/step - loss: -1281395328.0000 - accuracy: 0.3821 - val_loss: -1327334272.0000 - val_accuracy: 0.3798\n",
      "Epoch 49/100\n",
      "698/698 [==============================] - 2s 3ms/step - loss: -1363817088.0000 - accuracy: 0.3821 - val_loss: -1411823104.0000 - val_accuracy: 0.3798\n",
      "Epoch 50/100\n",
      "698/698 [==============================] - 2s 3ms/step - loss: -1449695616.0000 - accuracy: 0.3821 - val_loss: -1499790720.0000 - val_accuracy: 0.3798\n",
      "Epoch 51/100\n",
      "698/698 [==============================] - 2s 3ms/step - loss: -1539172608.0000 - accuracy: 0.3821 - val_loss: -1591385600.0000 - val_accuracy: 0.3798\n",
      "Epoch 52/100\n",
      "698/698 [==============================] - 2s 3ms/step - loss: -1632185216.0000 - accuracy: 0.3821 - val_loss: -1686600832.0000 - val_accuracy: 0.3798\n",
      "Epoch 53/100\n",
      "698/698 [==============================] - 2s 3ms/step - loss: -1728890624.0000 - accuracy: 0.3821 - val_loss: -1785573504.0000 - val_accuracy: 0.3798\n",
      "Epoch 54/100\n",
      "698/698 [==============================] - 2s 3ms/step - loss: -1829290368.0000 - accuracy: 0.3821 - val_loss: -1888282112.0000 - val_accuracy: 0.3798\n",
      "Epoch 55/100\n",
      "698/698 [==============================] - 2s 3ms/step - loss: -1933500032.0000 - accuracy: 0.3821 - val_loss: -1994898560.0000 - val_accuracy: 0.3798\n",
      "Epoch 56/100\n",
      "698/698 [==============================] - 2s 3ms/step - loss: -2041760896.0000 - accuracy: 0.3821 - val_loss: -2105463552.0000 - val_accuracy: 0.3798\n",
      "Epoch 57/100\n",
      "698/698 [==============================] - 2s 3ms/step - loss: -2153818112.0000 - accuracy: 0.3821 - val_loss: -2220033536.0000 - val_accuracy: 0.3798\n",
      "Epoch 58/100\n",
      "698/698 [==============================] - 2s 3ms/step - loss: -2269929728.0000 - accuracy: 0.3821 - val_loss: -2338671616.0000 - val_accuracy: 0.3798\n",
      "Epoch 59/100\n",
      "698/698 [==============================] - 2s 3ms/step - loss: -2390217984.0000 - accuracy: 0.3821 - val_loss: -2461457408.0000 - val_accuracy: 0.3798\n",
      "Epoch 60/100\n",
      "698/698 [==============================] - 2s 3ms/step - loss: -2514591488.0000 - accuracy: 0.3821 - val_loss: -2588503296.0000 - val_accuracy: 0.3798\n",
      "Epoch 61/100\n",
      "698/698 [==============================] - 2s 3ms/step - loss: -2643194368.0000 - accuracy: 0.3821 - val_loss: -2719823872.0000 - val_accuracy: 0.3798\n",
      "Epoch 62/100\n",
      "698/698 [==============================] - 2s 3ms/step - loss: -2776346624.0000 - accuracy: 0.3821 - val_loss: -2855493376.0000 - val_accuracy: 0.3798\n",
      "Epoch 63/100\n",
      "698/698 [==============================] - 2s 3ms/step - loss: -2913597952.0000 - accuracy: 0.3821 - val_loss: -2995624192.0000 - val_accuracy: 0.3798\n",
      "Epoch 64/100\n",
      "698/698 [==============================] - 2s 3ms/step - loss: -3055350016.0000 - accuracy: 0.3821 - val_loss: -3140243712.0000 - val_accuracy: 0.3798\n",
      "Epoch 65/100\n",
      "698/698 [==============================] - 2s 3ms/step - loss: -3201736448.0000 - accuracy: 0.3821 - val_loss: -3289468672.0000 - val_accuracy: 0.3798\n",
      "Epoch 66/100\n",
      "698/698 [==============================] - 2s 3ms/step - loss: -3352702208.0000 - accuracy: 0.3821 - val_loss: -3443314688.0000 - val_accuracy: 0.3798\n",
      "Epoch 67/100\n",
      "698/698 [==============================] - 2s 3ms/step - loss: -3508210688.0000 - accuracy: 0.3821 - val_loss: -3601904384.0000 - val_accuracy: 0.3798\n",
      "Epoch 68/100\n",
      "698/698 [==============================] - 2s 3ms/step - loss: -3668591360.0000 - accuracy: 0.3821 - val_loss: -3765264640.0000 - val_accuracy: 0.3798\n",
      "Epoch 69/100\n",
      "698/698 [==============================] - 2s 3ms/step - loss: -3833707520.0000 - accuracy: 0.3821 - val_loss: -3933531904.0000 - val_accuracy: 0.3798\n",
      "Epoch 70/100\n",
      "698/698 [==============================] - 2s 3ms/step - loss: -4003666688.0000 - accuracy: 0.3821 - val_loss: -4106723840.0000 - val_accuracy: 0.3798\n",
      "Epoch 71/100\n",
      "698/698 [==============================] - 2s 3ms/step - loss: -4178659328.0000 - accuracy: 0.3821 - val_loss: -4284902912.0000 - val_accuracy: 0.3798\n",
      "Epoch 72/100\n",
      "698/698 [==============================] - 2s 3ms/step - loss: -4358697472.0000 - accuracy: 0.3821 - val_loss: -4468211712.0000 - val_accuracy: 0.3798\n",
      "Epoch 73/100\n",
      "698/698 [==============================] - 2s 3ms/step - loss: -4543916544.0000 - accuracy: 0.3821 - val_loss: -4656636416.0000 - val_accuracy: 0.3798\n",
      "Epoch 74/100\n",
      "698/698 [==============================] - 2s 3ms/step - loss: -4734204928.0000 - accuracy: 0.3821 - val_loss: -4850292736.0000 - val_accuracy: 0.3798\n",
      "Epoch 75/100\n",
      "698/698 [==============================] - 2s 3ms/step - loss: -4929731584.0000 - accuracy: 0.3821 - val_loss: -5049268736.0000 - val_accuracy: 0.3798\n",
      "Epoch 76/100\n",
      "698/698 [==============================] - 2s 3ms/step - loss: -5130521088.0000 - accuracy: 0.3821 - val_loss: -5253605888.0000 - val_accuracy: 0.3798\n",
      "Epoch 77/100\n",
      "698/698 [==============================] - 2s 3ms/step - loss: -5336628224.0000 - accuracy: 0.3821 - val_loss: -5463327744.0000 - val_accuracy: 0.3798\n",
      "Epoch 78/100\n",
      "698/698 [==============================] - 2s 3ms/step - loss: -5548386304.0000 - accuracy: 0.3821 - val_loss: -5678583808.0000 - val_accuracy: 0.3798\n",
      "Epoch 79/100\n",
      "698/698 [==============================] - 2s 3ms/step - loss: -5765684736.0000 - accuracy: 0.3821 - val_loss: -5899452928.0000 - val_accuracy: 0.3798\n",
      "Epoch 80/100\n",
      "698/698 [==============================] - 2s 3ms/step - loss: -5988361728.0000 - accuracy: 0.3821 - val_loss: -6125928448.0000 - val_accuracy: 0.3798\n",
      "Epoch 81/100\n",
      "698/698 [==============================] - 2s 3ms/step - loss: -6216812544.0000 - accuracy: 0.3821 - val_loss: -6358145024.0000 - val_accuracy: 0.3798\n",
      "Epoch 82/100\n",
      "698/698 [==============================] - 2s 3ms/step - loss: -6451016192.0000 - accuracy: 0.3821 - val_loss: -6596195328.0000 - val_accuracy: 0.3798\n",
      "Epoch 83/100\n",
      "698/698 [==============================] - 2s 3ms/step - loss: -6691001856.0000 - accuracy: 0.3821 - val_loss: -6840082432.0000 - val_accuracy: 0.3798\n",
      "Epoch 84/100\n",
      "698/698 [==============================] - 2s 3ms/step - loss: -6936724480.0000 - accuracy: 0.3821 - val_loss: -7089864192.0000 - val_accuracy: 0.3798\n",
      "Epoch 85/100\n",
      "698/698 [==============================] - 2s 3ms/step - loss: -7188687872.0000 - accuracy: 0.3821 - val_loss: -7345723904.0000 - val_accuracy: 0.3798\n",
      "Epoch 86/100\n",
      "698/698 [==============================] - 2s 3ms/step - loss: -7446414848.0000 - accuracy: 0.3821 - val_loss: -7607565824.0000 - val_accuracy: 0.3798\n",
      "Epoch 87/100\n",
      "698/698 [==============================] - 2s 3ms/step - loss: -7710470144.0000 - accuracy: 0.3821 - val_loss: -7875680768.0000 - val_accuracy: 0.3798\n",
      "Epoch 88/100\n",
      "698/698 [==============================] - 2s 3ms/step - loss: -7980398080.0000 - accuracy: 0.3821 - val_loss: -8149974528.0000 - val_accuracy: 0.3798\n",
      "Epoch 89/100\n",
      "698/698 [==============================] - 2s 3ms/step - loss: -8257039360.0000 - accuracy: 0.3821 - val_loss: -8430559232.0000 - val_accuracy: 0.3798\n",
      "Epoch 90/100\n",
      "698/698 [==============================] - 2s 3ms/step - loss: -8539592704.0000 - accuracy: 0.3821 - val_loss: -8717474816.0000 - val_accuracy: 0.3798\n",
      "Epoch 91/100\n",
      "698/698 [==============================] - 2s 3ms/step - loss: -8828457984.0000 - accuracy: 0.3821 - val_loss: -9010941952.0000 - val_accuracy: 0.3798\n",
      "Epoch 92/100\n",
      "698/698 [==============================] - 2s 3ms/step - loss: -9124210688.0000 - accuracy: 0.3821 - val_loss: -9310882816.0000 - val_accuracy: 0.3798\n",
      "Epoch 93/100\n",
      "698/698 [==============================] - 2s 3ms/step - loss: -9425952768.0000 - accuracy: 0.3821 - val_loss: -9617209344.0000 - val_accuracy: 0.3798\n",
      "Epoch 94/100\n",
      "698/698 [==============================] - 2s 3ms/step - loss: -9734572032.0000 - accuracy: 0.3821 - val_loss: -9930323968.0000 - val_accuracy: 0.3798\n",
      "Epoch 95/100\n",
      "698/698 [==============================] - 2s 3ms/step - loss: -10049907712.0000 - accuracy: 0.3821 - val_loss: -10250288128.0000 - val_accuracy: 0.3798\n",
      "Epoch 96/100\n",
      "698/698 [==============================] - 2s 3ms/step - loss: -10371968000.0000 - accuracy: 0.3821 - val_loss: -10576811008.0000 - val_accuracy: 0.3798\n",
      "Epoch 97/100\n",
      "698/698 [==============================] - 2s 3ms/step - loss: -10700509184.0000 - accuracy: 0.3821 - val_loss: -10910415872.0000 - val_accuracy: 0.3798\n",
      "Epoch 98/100\n",
      "698/698 [==============================] - 2s 3ms/step - loss: -11036370944.0000 - accuracy: 0.3821 - val_loss: -11250862080.0000 - val_accuracy: 0.3798\n",
      "Epoch 99/100\n",
      "698/698 [==============================] - 2s 3ms/step - loss: -11378769920.0000 - accuracy: 0.3821 - val_loss: -11598218240.0000 - val_accuracy: 0.3798\n",
      "Epoch 100/100\n",
      "698/698 [==============================] - 2s 3ms/step - loss: -11728520192.0000 - accuracy: 0.3821 - val_loss: -11952755712.0000 - val_accuracy: 0.3798\n"
     ]
    }
   ],
   "source": [
    "# Define a more complex model\n",
    "model = Sequential([\n",
    "    Dense(64, activation='relu', input_shape=(X_train.shape[1],)),\n",
    "    Dense(64, activation='relu'),\n",
    "    Dense(1, activation='sigmoid')\n",
    "])\n",
    "\n",
    "# Compile the model\n",
    "model.compile(optimizer=RMSprop(), loss='binary_crossentropy', metrics=['accuracy'])\n",
    "\n",
    "# Early stopping callback\n",
    "callback = EarlyStopping(monitor='val_loss', patience=2)\n",
    "\n",
    "# Fit the model with callback\n",
    "history = model.fit(X_train, y_train, epochs=100, batch_size=512, validation_split=0.2, callbacks=[callback])\n"
   ]
  },
  {
   "cell_type": "markdown",
   "metadata": {},
   "source": [
    "Evaluation Metrics"
   ]
  },
  {
   "cell_type": "code",
   "execution_count": 8,
   "metadata": {},
   "outputs": [
    {
     "name": "stdout",
     "output_type": "stream",
     "text": [
      "3489/3489 [==============================] - 5s 1ms/step - loss: -11961142272.0000 - accuracy: 0.3795\n",
      "Evaluation Metrics: [-11961142272.0, 0.37945953011512756]\n"
     ]
    }
   ],
   "source": [
    "# Evaluate the model\n",
    "evaluation = model.evaluate(X_test, y_test)\n",
    "\n",
    "# Print evaluation metrics\n",
    "print('Evaluation Metrics:', evaluation)\n"
   ]
  },
  {
   "cell_type": "code",
   "execution_count": 9,
   "metadata": {},
   "outputs": [
    {
     "data": {
      "image/png": "[encoded data removed]",
      "text/plain": [
       "<Figure size 640x480 with 1 Axes>"
      ]
     },
     "metadata": {},
     "output_type": "display_data"
    }
   ],
   "source": [
    "import matplotlib.pyplot as plt\n",
    "\n",
    "# Plot training history\n",
    "plt.plot(history.history['accuracy'])\n",
    "plt.plot(history.history['val_accuracy'])\n",
    "plt.title('Model accuracy')\n",
    "plt.ylabel('Accuracy')\n",
    "plt.xlabel('Epoch')\n",
    "plt.legend(['Train', 'Validation'], loc='upper left')\n",
    "plt.show()\n"
   ]
  },
  {
   "cell_type": "markdown",
   "metadata": {},
   "source": [
    "Fine-Tuning for Enhanced Performance"
   ]
  },
  {
   "cell_type": "code",
   "execution_count": 10,
   "metadata": {},
   "outputs": [
    {
     "name": "stderr",
     "output_type": "stream",
     "text": [
      "c:\\Python38\\lib\\site-packages\\keras\\optimizers\\optimizer_v2\\rmsprop.py:140: UserWarning: The `lr` argument is deprecated, use `learning_rate` instead.\n",
      "  super().__init__(name, **kwargs)\n"
     ]
    },
    {
     "name": "stdout",
     "output_type": "stream",
     "text": [
      "Epoch 1/50\n",
      "698/698 [==============================] - 3s 3ms/step - loss: -11924067328.0000 - accuracy: 0.3821 - val_loss: -11989013504.0000 - val_accuracy: 0.3798\n",
      "Epoch 2/50\n",
      "698/698 [==============================] - 2s 3ms/step - loss: -11959841792.0000 - accuracy: 0.3821 - val_loss: -12025040896.0000 - val_accuracy: 0.3798\n",
      "Epoch 3/50\n",
      "698/698 [==============================] - 2s 3ms/step - loss: -11995596800.0000 - accuracy: 0.3821 - val_loss: -12060932096.0000 - val_accuracy: 0.3798\n",
      "Epoch 4/50\n",
      "698/698 [==============================] - 2s 3ms/step - loss: -12031484928.0000 - accuracy: 0.3821 - val_loss: -12097002496.0000 - val_accuracy: 0.3798\n",
      "Epoch 5/50\n",
      "698/698 [==============================] - 2s 3ms/step - loss: -12067400704.0000 - accuracy: 0.3821 - val_loss: -12133136384.0000 - val_accuracy: 0.3798\n",
      "Epoch 6/50\n",
      "698/698 [==============================] - 2s 3ms/step - loss: -12103389184.0000 - accuracy: 0.3821 - val_loss: -12169238528.0000 - val_accuracy: 0.3798\n",
      "Epoch 7/50\n",
      "698/698 [==============================] - 2s 3ms/step - loss: -12139499520.0000 - accuracy: 0.3821 - val_loss: -12205535232.0000 - val_accuracy: 0.3798\n",
      "Epoch 8/50\n",
      "698/698 [==============================] - 2s 3ms/step - loss: -12175665152.0000 - accuracy: 0.3821 - val_loss: -12241845248.0000 - val_accuracy: 0.3798\n",
      "Epoch 9/50\n",
      "698/698 [==============================] - 2s 3ms/step - loss: -12211877888.0000 - accuracy: 0.3821 - val_loss: -12278239232.0000 - val_accuracy: 0.3798\n",
      "Epoch 10/50\n",
      "698/698 [==============================] - 2s 3ms/step - loss: -12248156160.0000 - accuracy: 0.3821 - val_loss: -12314675200.0000 - val_accuracy: 0.3798\n",
      "Epoch 11/50\n",
      "698/698 [==============================] - 2s 3ms/step - loss: -12284534784.0000 - accuracy: 0.3821 - val_loss: -12351423488.0000 - val_accuracy: 0.3798\n",
      "Epoch 12/50\n",
      "698/698 [==============================] - 2s 3ms/step - loss: -12321031168.0000 - accuracy: 0.3821 - val_loss: -12387963904.0000 - val_accuracy: 0.3798\n",
      "Epoch 13/50\n",
      "698/698 [==============================] - 2s 3ms/step - loss: -12357535744.0000 - accuracy: 0.3821 - val_loss: -12424693760.0000 - val_accuracy: 0.3798\n",
      "Epoch 14/50\n",
      "698/698 [==============================] - 2s 3ms/step - loss: -12394109952.0000 - accuracy: 0.3821 - val_loss: -12461469696.0000 - val_accuracy: 0.3798\n",
      "Epoch 15/50\n",
      "698/698 [==============================] - 2s 3ms/step - loss: -12430791680.0000 - accuracy: 0.3821 - val_loss: -12498249728.0000 - val_accuracy: 0.3798\n",
      "Epoch 16/50\n",
      "698/698 [==============================] - 2s 3ms/step - loss: -12467483648.0000 - accuracy: 0.3821 - val_loss: -12535062528.0000 - val_accuracy: 0.3798\n",
      "Epoch 17/50\n",
      "698/698 [==============================] - 2s 3ms/step - loss: -12504278016.0000 - accuracy: 0.3821 - val_loss: -12572132352.0000 - val_accuracy: 0.3798\n",
      "Epoch 18/50\n",
      "698/698 [==============================] - 2s 3ms/step - loss: -12541201408.0000 - accuracy: 0.3821 - val_loss: -12609128448.0000 - val_accuracy: 0.3798\n",
      "Epoch 19/50\n",
      "698/698 [==============================] - 2s 3ms/step - loss: -12578101248.0000 - accuracy: 0.3821 - val_loss: -12646325248.0000 - val_accuracy: 0.3798\n",
      "Epoch 20/50\n",
      "698/698 [==============================] - 2s 3ms/step - loss: -12615157760.0000 - accuracy: 0.3821 - val_loss: -12683597824.0000 - val_accuracy: 0.3798\n",
      "Epoch 21/50\n",
      "698/698 [==============================] - 2s 3ms/step - loss: -12652223488.0000 - accuracy: 0.3821 - val_loss: -12720872448.0000 - val_accuracy: 0.3798\n",
      "Epoch 22/50\n",
      "698/698 [==============================] - 2s 3ms/step - loss: -12689424384.0000 - accuracy: 0.3821 - val_loss: -12758221824.0000 - val_accuracy: 0.3798\n",
      "Epoch 23/50\n",
      "698/698 [==============================] - 2s 3ms/step - loss: -12726652928.0000 - accuracy: 0.3821 - val_loss: -12795619328.0000 - val_accuracy: 0.3798\n",
      "Epoch 24/50\n",
      "698/698 [==============================] - 2s 3ms/step - loss: -12763931648.0000 - accuracy: 0.3821 - val_loss: -12833009664.0000 - val_accuracy: 0.3798\n",
      "Epoch 25/50\n",
      "698/698 [==============================] - 2s 3ms/step - loss: -12801325056.0000 - accuracy: 0.3821 - val_loss: -12870594560.0000 - val_accuracy: 0.3798\n",
      "Epoch 26/50\n",
      "698/698 [==============================] - 2s 3ms/step - loss: -12838781952.0000 - accuracy: 0.3821 - val_loss: -12908192768.0000 - val_accuracy: 0.3798\n",
      "Epoch 27/50\n",
      "698/698 [==============================] - 2s 3ms/step - loss: -12876266496.0000 - accuracy: 0.3821 - val_loss: -12945932288.0000 - val_accuracy: 0.3798\n",
      "Epoch 28/50\n",
      "698/698 [==============================] - 2s 3ms/step - loss: -12913887232.0000 - accuracy: 0.3821 - val_loss: -12983840768.0000 - val_accuracy: 0.3798\n",
      "Epoch 29/50\n",
      "698/698 [==============================] - 2s 3ms/step - loss: -12951620608.0000 - accuracy: 0.3821 - val_loss: -13021614080.0000 - val_accuracy: 0.3798\n",
      "Epoch 30/50\n",
      "698/698 [==============================] - 2s 3ms/step - loss: -12989374464.0000 - accuracy: 0.3821 - val_loss: -13059612672.0000 - val_accuracy: 0.3798\n",
      "Epoch 31/50\n",
      "698/698 [==============================] - 2s 3ms/step - loss: -13027230720.0000 - accuracy: 0.3821 - val_loss: -13097705472.0000 - val_accuracy: 0.3798\n",
      "Epoch 32/50\n",
      "698/698 [==============================] - 2s 3ms/step - loss: -13065142272.0000 - accuracy: 0.3821 - val_loss: -13135741952.0000 - val_accuracy: 0.3798\n",
      "Epoch 33/50\n",
      "698/698 [==============================] - 2s 3ms/step - loss: -13103097856.0000 - accuracy: 0.3821 - val_loss: -13173828608.0000 - val_accuracy: 0.3798\n",
      "Epoch 34/50\n",
      "698/698 [==============================] - 2s 3ms/step - loss: -13141148672.0000 - accuracy: 0.3821 - val_loss: -13212086272.0000 - val_accuracy: 0.3798\n",
      "Epoch 35/50\n",
      "698/698 [==============================] - 2s 3ms/step - loss: -13179245568.0000 - accuracy: 0.3821 - val_loss: -13250325504.0000 - val_accuracy: 0.3798\n",
      "Epoch 36/50\n",
      "698/698 [==============================] - 2s 3ms/step - loss: -13217427456.0000 - accuracy: 0.3821 - val_loss: -13288709120.0000 - val_accuracy: 0.3798\n",
      "Epoch 37/50\n",
      "698/698 [==============================] - 2s 3ms/step - loss: -13255695360.0000 - accuracy: 0.3821 - val_loss: -13327314944.0000 - val_accuracy: 0.3798\n",
      "Epoch 38/50\n",
      "698/698 [==============================] - 2s 3ms/step - loss: -13294008320.0000 - accuracy: 0.3821 - val_loss: -13365752832.0000 - val_accuracy: 0.3798\n",
      "Epoch 39/50\n",
      "698/698 [==============================] - 2s 3ms/step - loss: -13332400128.0000 - accuracy: 0.3821 - val_loss: -13404280832.0000 - val_accuracy: 0.3798\n",
      "Epoch 40/50\n",
      "698/698 [==============================] - 2s 3ms/step - loss: -13370858496.0000 - accuracy: 0.3821 - val_loss: -13443032064.0000 - val_accuracy: 0.3798\n",
      "Epoch 41/50\n",
      "698/698 [==============================] - 2s 3ms/step - loss: -13409429504.0000 - accuracy: 0.3821 - val_loss: -13481742336.0000 - val_accuracy: 0.3798\n",
      "Epoch 42/50\n",
      "698/698 [==============================] - 2s 3ms/step - loss: -13448084480.0000 - accuracy: 0.3821 - val_loss: -13520489472.0000 - val_accuracy: 0.3798\n",
      "Epoch 43/50\n",
      "698/698 [==============================] - 2s 3ms/step - loss: -13486766080.0000 - accuracy: 0.3821 - val_loss: -13559416832.0000 - val_accuracy: 0.3798\n",
      "Epoch 44/50\n",
      "698/698 [==============================] - 2s 3ms/step - loss: -13525528576.0000 - accuracy: 0.3821 - val_loss: -13598260224.0000 - val_accuracy: 0.3798\n",
      "Epoch 45/50\n",
      "698/698 [==============================] - 2s 3ms/step - loss: -13564335104.0000 - accuracy: 0.3821 - val_loss: -13637395456.0000 - val_accuracy: 0.3798\n",
      "Epoch 46/50\n",
      "698/698 [==============================] - 2s 3ms/step - loss: -13603265536.0000 - accuracy: 0.3821 - val_loss: -13676525568.0000 - val_accuracy: 0.3798\n",
      "Epoch 47/50\n",
      "698/698 [==============================] - 2s 3ms/step - loss: -13642231808.0000 - accuracy: 0.3821 - val_loss: -13715729408.0000 - val_accuracy: 0.3798\n",
      "Epoch 48/50\n",
      "698/698 [==============================] - 2s 3ms/step - loss: -13681292288.0000 - accuracy: 0.3821 - val_loss: -13754955776.0000 - val_accuracy: 0.3798\n",
      "Epoch 49/50\n",
      "698/698 [==============================] - 2s 3ms/step - loss: -13720415232.0000 - accuracy: 0.3821 - val_loss: -13794324480.0000 - val_accuracy: 0.3798\n",
      "Epoch 50/50\n",
      "698/698 [==============================] - 2s 3ms/step - loss: -13759730688.0000 - accuracy: 0.3821 - val_loss: -13833749504.0000 - val_accuracy: 0.3798\n"
     ]
    }
   ],
   "source": [
    "# Adjust the model structure or learning rate\n",
    "model.compile(optimizer=RMSprop(lr=0.0001), loss='binary_crossentropy', metrics=['accuracy'])\n",
    "\n",
    "# Re-fit the model\n",
    "history = model.fit(X_train, y_train, epochs=50, batch_size=512, validation_split=0.2)\n"
   ]
  },
  {
   "cell_type": "markdown",
   "metadata": {},
   "source": [
    "Examining Model's Efficacy"
   ]
  },
  {
   "cell_type": "code",
   "execution_count": 11,
   "metadata": {},
   "outputs": [
    {
     "name": "stdout",
     "output_type": "stream",
     "text": [
      "3489/3489 [==============================] - 5s 1ms/step - loss: -13843469312.0000 - accuracy: 0.3795\n",
      "Initial Evaluation: 0.37945953011512756\n",
      "Fine-Tuned Evaluation: 0.37945953011512756\n"
     ]
    }
   ],
   "source": [
    "# Re-evaluate the fine-tuned model\n",
    "fine_tuned_evaluation = model.evaluate(X_test, y_test)\n",
    "\n",
    "# Compare the evaluations\n",
    "print(f\"Initial Evaluation: {evaluation[1]}\")\n",
    "print(f\"Fine-Tuned Evaluation: {fine_tuned_evaluation[1]}\")\n",
    "\n"
   ]
  },
  {
   "cell_type": "code",
   "execution_count": null,
   "metadata": {},
   "outputs": [],
   "source": []
  }
 ],
 "metadata": {
  "kernelspec": {
   "display_name": "Python 3",
   "language": "python",
   "name": "python3"
  },
  "language_info": {
   "codemirror_mode": {
    "name": "ipython",
    "version": 3
   },
   "file_extension": ".py",
   "mimetype": "text/x-python",
   "name": "python",
   "nbconvert_exporter": "python",
   "pygments_lexer": "ipython3",
   "version": "3.8.5"
  }
 },
 "nbformat": 4,
 "nbformat_minor": 2
}
