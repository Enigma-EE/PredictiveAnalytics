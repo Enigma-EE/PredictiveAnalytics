{
 "cells": [
  {
   "cell_type": "markdown",
   "id": "6cb0c7b4",
   "metadata": {},
   "source": [
    "## The sum rule"
   ]
  },
  {
   "cell_type": "code",
   "execution_count": 1,
   "id": "226bed5c",
   "metadata": {},
   "outputs": [],
   "source": [
    "from sympy import *\n",
    "from scipy.misc import derivative"
   ]
  },
  {
   "cell_type": "code",
   "execution_count": 2,
   "id": "c069e9c8",
   "metadata": {},
   "outputs": [
    {
     "data": {
      "text/latex": [
       "$\\displaystyle 21 x^{2} + 2 x$"
      ],
      "text/plain": [
       "21*x**2 + 2*x"
      ]
     },
     "execution_count": 2,
     "metadata": {},
     "output_type": "execute_result"
    }
   ],
   "source": [
    "x = Symbol('x')\n",
    "Fx = 7*x**3+x**2+1\n",
    "Derivative(Fx,x).doit()"
   ]
  },
  {
   "cell_type": "code",
   "execution_count": 3,
   "id": "9f36d816",
   "metadata": {},
   "outputs": [
    {
     "data": {
      "text/plain": [
       "30.0"
      ]
     },
     "execution_count": 3,
     "metadata": {},
     "output_type": "execute_result"
    }
   ],
   "source": [
    "def f(x):\n",
    "    return 7*x**3+x**2+1\n",
    "derivative(f,1.0)"
   ]
  },
  {
   "cell_type": "code",
   "execution_count": null,
   "id": "b8d09c71",
   "metadata": {},
   "outputs": [],
   "source": []
  }
 ],
 "metadata": {
  "kernelspec": {
   "display_name": "Python 3",
   "language": "python",
   "name": "python3"
  },
  "language_info": {
   "codemirror_mode": {
    "name": "ipython",
    "version": 3
   },
   "file_extension": ".py",
   "mimetype": "text/x-python",
   "name": "python",
   "nbconvert_exporter": "python",
   "pygments_lexer": "ipython3",
   "version": "3.8.8"
  }
 },
 "nbformat": 4,
 "nbformat_minor": 5
}
