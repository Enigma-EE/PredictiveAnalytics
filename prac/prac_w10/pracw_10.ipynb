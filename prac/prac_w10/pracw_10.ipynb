{
 "cells": [
  {
   "cell_type": "markdown",
   "metadata": {},
   "source": [
    "### Task 1. Computing AND operator neural network\n",
    "\n",
    "\n",
    "Let’s assume that we have two inputs X1 and X2 which produce an output Y. The goal of this\n",
    "task will be to implement AND operator (AND gate) that has properties as outlined in Table 1.\n",
    "\n",
    "\n",
    "Table 1. AND operator\n",
    "\n",
    "| X₁ | X₂ | Y |\n",
    "|---|---|---|\n",
    "| 0  | 0  | 0  |\n",
    "| 0  | 1  | 0  |\n",
    "| 1  | 0  | 0  |\n",
    "| 1  | 1  | 1  |\n",
    "\n",
    "As Table 1 shows, only when both X1 and X2 have a value of 1, the value of Y should be 1. In all\n",
    "other cases, Y is 0.\n",
    "\n",
    "\n",
    "\n",
    "The neural network configuration for this assignment will be as follows:\n",
    "\n",
    "- One input layer with two neurons.\n",
    "  \n",
    "- One output layer with one neuron.\n",
    "  \n",
    "- The activation function for the output layer will be Sigmoid function. As a results, this means that i) Y=0 if the output layer produces a value lower than 0.5 and ii) Y=1 if the output layer produces a value greater of equal to 0.5\n",
    "\n",
    "- Initial values for weights will be equal to 1 (w=1) for all input parameters.\n",
    "\n",
    "\n",
    "- Learning rate is 0.5 (Λ = 0.5)\n",
    "\n",
    "\n",
    "Using the perceptron learning algorithm, learn the network configuration – i.e., bias and\n",
    "weights for X1 and X2 - for the given neural network.\n",
    "\n",
    "\n",
    "What is the accuracy of your model?\n"
   ]
  },
  {
   "cell_type": "markdown",
   "metadata": {},
   "source": [
    "### Task 2. Implementing a neural network"
   ]
  },
  {
   "cell_type": "markdown",
   "metadata": {},
   "source": [
    "we can solve AND and OR gates using a perceptron. But XOR is not possible, simply because this is not a linearly separable problem. Therefore, we will follow a tutorial provided here http://theshybulb.com/2017/09/27/xor-neural-network.html to implement a neural network in Python, with a an input layer with two parameters, one hidden layer, and one output layer."
   ]
  },
  {
   "cell_type": "code",
   "execution_count": 1,
   "metadata": {},
   "outputs": [],
   "source": [
    "import numpy as np\n",
    "from matplotlib import pyplot as plt"
   ]
  },
  {
   "cell_type": "markdown",
   "metadata": {},
   "source": [
    "We will use a sigmoid function as an activation function for the hidden layer. As we want the output to be 0 or 1, we have no other option but to use the sigmoid function again.\n"
   ]
  },
  {
   "cell_type": "code",
   "execution_count": 2,
   "metadata": {},
   "outputs": [],
   "source": [
    "def sigmoid(z):\n",
    " return 1 / (1 + np.exp(-z))"
   ]
  },
  {
   "cell_type": "markdown",
   "metadata": {},
   "source": [
    "Initializing parameters (weights and bias) is an extremely important step. Similar to what was proposed in the example referenced above, we will also assign random values between 0 and 1 for the weights, while biases will be set to 0."
   ]
  },
  {
   "cell_type": "code",
   "execution_count": 3,
   "metadata": {},
   "outputs": [],
   "source": [
    "def initialize_parameters(n_x, n_h, n_y):\n",
    " \"\"\"\n",
    " Argument:\n",
    " n_x -- size of the input layer\n",
    " n_h -- size of the hidden layer\n",
    " n_y -- size of the output layer\n",
    " Returns:\n",
    " parameters -- python dictionary containing your parameters:\n",
    " W1 -- weight matrix of shape (n_h, n_x)\n",
    " b1 -- bias vector of shape (n_h, 1)\n",
    " W2 -- weight matrix of shape (n_y, n_h)\n",
    " b2 -- bias vector of shape (n_y, 1)\n",
    " \"\"\"\n",
    " np.random.seed(1)\n",
    " W1 = np.random.randn(n_h, n_x)\n",
    " b1 = np.zeros((n_h, 1))\n",
    " W2 = np.random.randn(n_y, n_h)\n",
    " b2 = np.zeros((n_y, 1))\n",
    " parameters = {\"W1\" : W1, \"b1\": b1,\n",
    " \"W2\" : W2, \"b2\": b2}\n",
    " return parameters"
   ]
  },
  {
   "cell_type": "markdown",
   "metadata": {},
   "source": [
    "Forward propagation should be rather straightforward, and this is something we discussed in class."
   ]
  },
  {
   "cell_type": "code",
   "execution_count": 4,
   "metadata": {},
   "outputs": [],
   "source": [
    "def forward_propagation(X, Y, parameters):\n",
    " m = X.shape[1] # number of samples\n",
    " W1 = parameters[\"W1\"] # weight matrix of shape (n_h, n_x)\n",
    " W2 = parameters[\"W2\"] # weight matrix of shape (n_y, n_h)\n",
    " b1 = parameters[\"b1\"] # bias vector of shape (n_h, 1)\n",
    " b2 = parameters[\"b2\"]  # bias vector of shape (n_y, 1)\n",
    " Z1 = np.dot(W1, X) + b1 # Z1 = W1*X + b1\n",
    " A1 = sigmoid(Z1) # A1 = sigmoid(Z1)\n",
    " Z2 = np.dot(W2, A1) + b2 # Z2 = W2*A1 + b2\n",
    " A2 = sigmoid(Z2) # A2 = sigmoid(Z2)\n",
    " cache = (Z1, A1, W1, b1, Z2, A2, W2, b2) # cache for backpropagation\n",
    " logprobs = np.multiply(np.log(A2), Y) + np.multiply(np.log(1 - A2), (1\n",
    "- Y)) # compute cost\n",
    " cost = -np.sum(logprobs) / m # compute cost\n",
    " return cost, cache, A2 # return cost, cache and A2\n"
   ]
  },
  {
   "cell_type": "markdown",
   "metadata": {},
   "source": [
    "We also need to implement the backpropagation part, as we have one hidden layer."
   ]
  },
  {
   "cell_type": "code",
   "execution_count": 7,
   "metadata": {},
   "outputs": [],
   "source": [
    "def backward_propagation(X, Y, cache): # backward propagation\n",
    " m = X.shape[1] # initialize number of samples, m is number of samples\n",
    " (Z1, A1, W1, b1, Z2, A2, W2, b2) = cache # unpack cache, Contains forward propagation intermediate values, useful for backward computation\n",
    " # Second Layer Gradient Computations (Output Layer):\n",
    " dZ2 = A2 - Y  # This is the gradient of the loss with respect to Z2. It represents how much the output (A2) differs from the actual value (Y). In simple terms, it's the error of the output\n",
    " dW2 = np.dot(dZ2, A1.T) / m  # Gradient of the loss with respect to W2. It indicates how much we need to adjust W2 to minimize the error\n",
    " db2 = np.sum(dZ2, axis = 1, keepdims=True) / m #  Gradient of the loss with respect to b2. It indicates how much we need to adjust b2 to minimize the error\n",
    "\n",
    "# First Layer Gradient Computations:\n",
    " dA1 = np.dot(W2.T, dZ2)  # Gradient of the loss with respect to A1.\n",
    " dZ1 = np.multiply(dA1, A1 * (1- A1)) #  Gradient of the loss with respect to Z1. The term A1 * (1- A1) implies that the activation function used in layer 1 is the sigmoid \n",
    " dW1 = np.dot(dZ1, X.T) / m # Gradient of the loss with respect to W1. It indicates how much we need to adjust W1 to minimize the error\n",
    " db1 = np.sum(dZ1, axis=1, keepdims=True) / m # Gradient of the loss with respect to b1. It indicates how much we need to adjust b1 to minimize the error\n",
    "\n",
    "\n",
    "# Store Gradients\n",
    " gradients = {\"dZ2\": dZ2, \"dW2\": dW2, \"db2\": db2,\n",
    " \"dZ1\": dZ1, \"dW1\": dW1, \"db1\": db1}\n",
    " return gradients"
   ]
  },
  {
   "cell_type": "markdown",
   "metadata": {},
   "source": [
    "Finally, we need to update weights"
   ]
  },
  {
   "cell_type": "code",
   "execution_count": 8,
   "metadata": {},
   "outputs": [],
   "source": [
    "def update_parameters(parameters, grads, learning_rate):\n",
    " parameters[\"W1\"] = parameters[\"W1\"] - learning_rate * grads[\"dW1\"]\n",
    " parameters[\"W2\"] = parameters[\"W2\"] - learning_rate * grads[\"dW2\"]\n",
    " parameters[\"b1\"] = parameters[\"b1\"] - learning_rate * grads[\"db1\"]\n",
    " parameters[\"b2\"] = parameters[\"b2\"] - learning_rate * grads[\"db2\"]\n",
    " return parameter"
   ]
  },
  {
   "cell_type": "markdown",
   "metadata": {},
   "source": [
    "If we want to learn the XOR table and evaluate the performance of our model, we would have\n",
    "something along those lines."
   ]
  },
  {
   "cell_type": "markdown",
   "metadata": {},
   "source": [
    "Initialize Parameters:"
   ]
  },
  {
   "cell_type": "code",
   "execution_count": 10,
   "metadata": {},
   "outputs": [],
   "source": [
    "def initialize_parameters(n_x, n_h, n_y):\n",
    "    W1 = np.random.randn(n_h, n_x) * 0.01\n",
    "    b1 = np.zeros((n_h, 1))\n",
    "    W2 = np.random.randn(n_y, n_h) * 0.01\n",
    "    b2 = np.zeros((n_y, 1))\n",
    "    \n",
    "    parameters = {\"W1\": W1, \"b1\": b1, \"W2\": W2, \"b2\": b2}\n",
    "    return parameters\n"
   ]
  },
  {
   "cell_type": "markdown",
   "metadata": {},
   "source": [
    "Forward Propagation:\n",
    "\n",
    "Note: I'm assuming sigmoid activation for both layers; you can change as per your original design."
   ]
  },
  {
   "cell_type": "code",
   "execution_count": 11,
   "metadata": {},
   "outputs": [],
   "source": [
    "def sigmoid(z):\n",
    "    return 1 / (1 + np.exp(-z))\n",
    "\n",
    "def forward_propagation(X, Y, parameters):\n",
    "    W1 = parameters[\"W1\"]\n",
    "    b1 = parameters[\"b1\"]\n",
    "    W2 = parameters[\"W2\"]\n",
    "    b2 = parameters[\"b2\"]\n",
    "\n",
    "    Z1 = np.dot(W1, X) + b1\n",
    "    A1 = sigmoid(Z1)\n",
    "    Z2 = np.dot(W2, A1) + b2\n",
    "    A2 = sigmoid(Z2)\n",
    "\n",
    "    cache = (Z1, A1, W1, b1, Z2, A2, W2, b2)\n",
    "    \n",
    "    logprobs = np.multiply(np.log(A2), Y) + np.multiply((1 - Y), np.log(1 - A2))\n",
    "    cost = -np.sum(logprobs) / Y.shape[1]\n",
    "\n",
    "    return cost, cache, A2\n"
   ]
  },
  {
   "cell_type": "code",
   "execution_count": 12,
   "metadata": {},
   "outputs": [],
   "source": [
    "def update_parameters(parameters, grads, learning_rate):\n",
    "    parameters[\"W1\"] = parameters[\"W1\"] - learning_rate * grads[\"dW1\"]\n",
    "    parameters[\"W2\"] = parameters[\"W2\"] - learning_rate * grads[\"dW2\"]\n",
    "    parameters[\"b1\"] = parameters[\"b1\"] - learning_rate * grads[\"db1\"]\n",
    "    parameters[\"b2\"] = parameters[\"b2\"] - learning_rate * grads[\"db2\"]\n",
    "    \n",
    "    return parameters  # Corrected this line\n"
   ]
  },
  {
   "cell_type": "code",
   "execution_count": 13,
   "metadata": {},
   "outputs": [
    {
     "name": "stdout",
     "output_type": "stream",
     "text": [
      "[[0.49999564 0.4999913  0.50000868 0.50000434]]\n",
      "[[0. 0. 1. 1.]]\n"
     ]
    },
    {
     "data": {
      "image/png": "[encoded data removed]",
      "text/plain": [
       "<Figure size 640x480 with 1 Axes>"
      ]
     },
     "metadata": {},
     "output_type": "display_data"
    }
   ],
   "source": [
    "X = np.array([[0, 0, 1, 1], [0, 1, 0, 1]])\n",
    "Y = np.array([[0, 1, 1, 0]]) # XOR\n",
    "n_h = 2\n",
    "n_x = X.shape[0]\n",
    "n_y = Y.shape[0]\n",
    "parameters = initialize_parameters(n_x, n_h, n_y)\n",
    "num_iterations = 100000\n",
    "learning_rate = 0.01\n",
    "losses = np.zeros((num_iterations, 1))\n",
    "for i in range(num_iterations):\n",
    " losses[i, 0], cache, A2 = forward_propagation(X, Y, parameters)\n",
    " grads = backward_propagation(X, Y, cache)\n",
    " parameters = update_parameters(parameters, grads, learning_rate)\n",
    "cost, _, A2 = forward_propagation(X, Y, parameters)\n",
    "pred = (A2 > 0.5) * 1.0\n",
    "print(A2)\n",
    "print(pred)\n",
    "plt.figure()\n",
    "plt.plot(losses)\n",
    "plt.show()\n"
   ]
  },
  {
   "cell_type": "markdown",
   "metadata": {},
   "source": [
    "Now, you can use these functions with the code you provided to train the model and visualize the losses."
   ]
  },
  {
   "cell_type": "markdown",
   "metadata": {},
   "source": [
    "\n",
    "\n",
    "**Key Observations**:\n",
    "\n",
    "1. **Sharp Decrease at the Beginning**: The loss starts at a high value and experiences a sharp decline in the initial iterations. This indicates that the model is rapidly learning to fit the data in the beginning stages of the training.\n",
    "\n",
    "2. **Plateau after the Decrease**: After the rapid decline, the loss value seems to stabilize and doesn't change much. This plateau suggests that the model has reached a point where further training doesn't significantly reduce the loss value. It might have found an optimal or near-optimal set of parameters (weights and biases) for the given learning rate and architecture.\n",
    "\n",
    "**Interpretation**:\n",
    "\n",
    "1. **Model's Learning**: The sharp initial decrease indicates the model's ability to learn from the data. As the model updates its parameters (weights and biases), it becomes better at its task, leading to a reduction in the error (loss).\n",
    "\n",
    "2. **Convergence**: The plateauing of the loss suggests that the model has converged, meaning it has reached a point where further training doesn't lead to significant improvements. This can be due to various reasons:\n",
    "   - The model has reached its capacity in learning the given data with the current architecture.\n",
    "   - The learning rate might be too high for fine-tuning, causing it to oscillate around a minimum value without significantly reducing the loss.\n",
    "   - The model might have reached a local minimum in the loss surface.\n",
    "\n",
    "**Recommendations**:\n",
    "\n",
    "1. **Evaluation**: It's essential to evaluate the model on a separate validation or test set to ensure that it's not just memorizing the training data (overfitting). If the model performs well on unseen data, it indicates good generalization.\n",
    "\n",
    "2. **Hyperparameter Tuning**: If you're not satisfied with the performance, consider experimenting with hyperparameters like the learning rate, the number of hidden units, or the activation functions. \n",
    "\n",
    "3. **Early Stopping**: Since the loss stabilizes after a certain number of iterations, you could employ early stopping. This means you can halt the training once the loss stops decreasing (or decreases very slowly) to save computational resources and time.\n",
    "\n",
    "In summary, this graph shows the typical behavior of a model that's learning and then converging. The next steps would involve evaluating its predictions on unseen data and potentially tuning it further for better performance."
   ]
  },
  {
   "cell_type": "markdown",
   "metadata": {},
   "source": []
  }
 ],
 "metadata": {
  "kernelspec": {
   "display_name": "Python 3",
   "language": "python",
   "name": "python3"
  },
  "language_info": {
   "codemirror_mode": {
    "name": "ipython",
    "version": 3
   },
   "file_extension": ".py",
   "mimetype": "text/x-python",
   "name": "python",
   "nbconvert_exporter": "python",
   "pygments_lexer": "ipython3",
   "version": "3.8.5"
  }
 },
 "nbformat": 4,
 "nbformat_minor": 2
}
